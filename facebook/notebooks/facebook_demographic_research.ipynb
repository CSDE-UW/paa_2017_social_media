{
 "cells": [
  {
   "cell_type": "markdown",
   "metadata": {},
   "source": [
    "# Demographic Research with the Facebook Marketing API"
   ]
  },
  {
   "cell_type": "markdown",
   "metadata": {},
   "source": [
    "install pySocialWatcher\n",
    "* copy \"download_pySocialWatcher.sh\" from the install_software folder to the location you want to install pySocialWatcher\n",
    "    * type \"sh download_pySocialWatcher.sh\" to install pySocial Watcher"
   ]
  },
  {
   "cell_type": "code",
   "execution_count": 1,
   "metadata": {
    "collapsed": false
   },
   "outputs": [],
   "source": [
    "import os \n",
    "import re\n",
    "import sys\n",
    "import csv\n",
    "import json \n",
    "import glob\n",
    "import numpy as np\n",
    "import pandas as pd\n",
    "from datetime import datetime\n",
    "import matplotlib.pyplot as plt\n",
    "from collections import OrderedDict\n",
    "from pysocialwatcher import watcherAPI "
   ]
  },
  {
   "cell_type": "code",
   "execution_count": 2,
   "metadata": {
    "collapsed": false
   },
   "outputs": [
    {
     "data": {
      "text/plain": [
       "'/Users/kivan/repos/paa_2017_social_media/facebook/notebooks'"
      ]
     },
     "execution_count": 2,
     "metadata": {},
     "output_type": "execute_result"
    }
   ],
   "source": [
    "os.getcwd()"
   ]
  },
  {
   "cell_type": "markdown",
   "metadata": {},
   "source": [
    "## Register for Marketing API access: \n",
    "* go to https://www.facebook.com \n",
    "* Go to https://developers.facebook.com/apps/\n",
    "* Click \"Get Started\" in the top right\n",
    "* Create a new app by clicking on \"+ Add a New App\" and follow the process minimally \n",
    "* In the app's dashboard page, click \"+ Add product\" in the toolbar on the left\n",
    "* Select \"Marketing\" Product Setup\n",
    "* Click \"Get Access Token\"\n",
    "* Click \"Extend Access Token\" button (at the bottom) (the button may not show up right away, just refresh the page)\n",
    "    * The access token that shows up under the form is the one you want! It will look something like this:\n",
    "    EAAHMonBrQ5kBALhYvCnLRsNRyO9YJH8I6ZBKwby5cLrS4V2GZAC2GT2MbDHXjpwnfvkPB0ZBv7knZAP1wRzKQVZAxd7fAsQTDAVrE0H3hUffFZBuRlncX0cAMVj8sIKLN68U6BxDAogvIdluX8tAMK\n",
    "\n",
    "* Finally, you want to get your application ID.\n",
    "* Go to https://www.facebook.com/business/ and click \"Create Advert\"\n",
    "* In URL, copy the part starting with act= such as:\n",
    "https://www.facebook.com/ads/manager/creation/creation/?act=952863473440&pid=p1\n",
    "## Create facebook_credentials.csv\n",
    "* change directory to the credentials folder\n",
    "    * open create_credentials.sh\n",
    "    * replace Facebook_Token with your Access Token\n",
    "    * replace Ads_Manager_AccountID with your account ID\n",
    "    * type \"sh create_credentials.sh\" to create facebook_credentials.csv"
   ]
  },
  {
   "cell_type": "markdown",
   "metadata": {},
   "source": [
    "tutorial on pySocialWatcher module:\n",
    "* https://github.com/maraujo/pySocialWatcher\n",
    "https://goo.gl/WzE9ic\n",
    "\n",
    "extend access token:\n",
    "* https://developers.facebook.com/tools/debug/accesstoken"
   ]
  },
  {
   "cell_type": "code",
   "execution_count": 3,
   "metadata": {
    "collapsed": true
   },
   "outputs": [],
   "source": [
    "watcher = watcherAPI() \n",
    "watcher.load_credentials_file(\"credentials/facebook_credentials.csv\")"
   ]
  },
  {
   "cell_type": "code",
   "execution_count": 5,
   "metadata": {
    "collapsed": false
   },
   "outputs": [
    {
     "name": "stderr",
     "output_type": "stream",
     "text": [
      "2017-04-14 10:22:06 D-173-250-200-200.dhcp4.washington.edu root[60968] INFO Testing tokens and account number\n",
      "2017-04-14 10:22:06 D-173-250-200-200.dhcp4.washington.edu root[60968] INFO \tSending in request: {\"genders\": [0], \"geo_locations\": {\"regions\": [{\"key\": \"3843\"}], \"location_types\": [\"home\"]}}\n",
      "2017-04-14 10:22:06 D-173-250-200-200.dhcp4.washington.edu requests.packages.urllib3.connectionpool[60968] INFO Starting new HTTPS connection (1): graph.facebook.com\n",
      "2017-04-14 10:22:08 D-173-250-200-200.dhcp4.washington.edu root[60968] INFO All tokens and respective account number are valid.\n"
     ]
    }
   ],
   "source": [
    "watcher.check_tokens_account_valid()"
   ]
  },
  {
   "cell_type": "code",
   "execution_count": 5,
   "metadata": {
    "collapsed": false
   },
   "outputs": [],
   "source": [
    "#watcherAPI.print_geo_locations_given_query_and_location_type(\"new\", [\"city\"])"
   ]
  },
  {
   "cell_type": "code",
   "execution_count": 6,
   "metadata": {
    "collapsed": false
   },
   "outputs": [],
   "source": [
    "#watcher.print_behaviors_list()"
   ]
  },
  {
   "cell_type": "code",
   "execution_count": 6,
   "metadata": {
    "collapsed": false
   },
   "outputs": [
    {
     "name": "stdout",
     "output_type": "stream",
     "text": [
      "I used to think the brain was the most important organ.\n",
      "Then I thought, look what’s telling me that.\n"
     ]
    }
   ],
   "source": [
    "watcher.print_bad_joke()"
   ]
  },
  {
   "cell_type": "code",
   "execution_count": 3,
   "metadata": {
    "collapsed": false
   },
   "outputs": [
    {
     "name": "stdout",
     "output_type": "stream",
     "text": [
      "System and module version information: \n",
      "\n",
      "('Python version:', sys.version_info(major=2, minor=7, micro=12, releaselevel='final', serial=0))\n",
      "('pandas version:', u'0.19.0')\n"
     ]
    }
   ],
   "source": [
    "print(\"System and module version information: \\n\")\n",
    "print('Python version:', sys.version_info)\n",
    "print('pandas version:', pd.__version__)"
   ]
  }
 ],
 "metadata": {
  "anaconda-cloud": {},
  "kernelspec": {
   "display_name": "Python [conda env:py27]",
   "language": "python",
   "name": "conda-env-py27-py"
  },
  "language_info": {
   "codemirror_mode": {
    "name": "ipython",
    "version": 2
   },
   "file_extension": ".py",
   "mimetype": "text/x-python",
   "name": "python",
   "nbconvert_exporter": "python",
   "pygments_lexer": "ipython2",
   "version": "2.7.12"
  }
 },
 "nbformat": 4,
 "nbformat_minor": 1
}
