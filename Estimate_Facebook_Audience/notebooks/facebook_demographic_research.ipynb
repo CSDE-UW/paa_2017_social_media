{
 "cells": [
  {
   "cell_type": "markdown",
   "metadata": {},
   "source": [
    "# Demographic Research with the Facebook Marketing API"
   ]
  },
  {
   "cell_type": "markdown",
   "metadata": {},
   "source": [
    "# Outline\n",
    "\n",
    "1. Using Python in the terminal\n",
    "2. Install pySocialWatcher\n",
    "3. Import modules\n",
    "4. Register for Facebook Marketing API access\n",
    "5. Explore pySocialWatcher module\n",
    "6. Use pySocialWatcher to analyze a specific behavior (new movers)\n",
    "7. Plot total new movers in subset dataframe"
   ]
  },
  {
   "cell_type": "markdown",
   "metadata": {},
   "source": [
    "## Using Python in the terminal\n",
    "- open the terminal in Mac by pressing the spacebar and command to open spotlight\n",
    "    * type terminal in the spotlight search\n",
    "to open the terminal \n",
    "- navigate to the directory that you downloaded or cloned the workshop to with `cd`\n",
    "    * e.g. `cd tutorials/paa_2017_social_media` will change to the paa_2017_social_media folder within the tutorials directory\n",
    "- open a jupyter notebook web browser with the command `jupyter notebook`"
   ]
  },
  {
   "cell_type": "markdown",
   "metadata": {},
   "source": [
    "## Install pySocialWatcher\n",
    "- **pySocialWatcher is currently only compatible with Python2.7**\n",
    "    * if you downloaded Anaconda for Python3.x you can create a conda environment with Python2.7\n",
    "        * first type `conda create -n py27 python=2.7` in the terminal to create a Python2.7 environment named py27\n",
    "        * then type `source activate py27` to activate the py27 environment \n",
    "    * setup notebook in py27 environment\n",
    "        * `conda install notebook ipykernel matplotlib`\n",
    "        * `ipython kernel install --user`\n",
    "* install pySocialWatcher with the following commands in your terminal\n",
    "    * first, navigate into the pySocialWatcher in the Estimate_Facebook_Audience folder\n",
    "    * then, type the following two commands in the terminal\n",
    "~~~\n",
    "pip install -r requirements.txt\n",
    "python setup.py install\n",
    "~~~\n",
    "* pySocialWatcher [examples and documentation](https://github.com/maraujo/pySocialWatcher)\n",
    "* [quick tutorial](https://goo.gl/WzE9ic) on pySocialWatcher module"
   ]
  },
  {
   "cell_type": "markdown",
   "metadata": {},
   "source": [
    "## Import modules\n",
    "* `import` is a Python module\n",
    "* gives the current namespace access to the code in another module by the process of importing it\n",
    "* equavialent to library(package) in R\n",
    "* [import documentation](https://docs.python.org/2/tutorial/modules.html)\n",
    "\n",
    "### import features\n",
    "* import specific functions from a module\n",
    "    * example: `from collections import OrderedDict`\n",
    "* create an alias for a module names by using \"as\"\n",
    "    * example: `import pandas as pd` imports the pandas module but assigns this module the name \"pd\" in the namespace\n",
    "    * alias allows quicker access to functions:\n",
    "        * example: instead of using `pandas.read_csv()` to read a .csv file can now type `pd.read_csv()`\n",
    "* use `import` to import custom code/functions from a Python .py file in the current directory\n",
    "    * example: `from utils import *`\n",
    "    * utils.py is a script with two functions for this module"
   ]
  },
  {
   "cell_type": "code",
   "execution_count": 1,
   "metadata": {
    "collapsed": false
   },
   "outputs": [],
   "source": [
    "# uncomment the line below to view the functions in utils.py\n",
    "#% cat utils.py"
   ]
  },
  {
   "cell_type": "code",
   "execution_count": 2,
   "metadata": {
    "collapsed": false
   },
   "outputs": [],
   "source": [
    "import os \n",
    "import re\n",
    "import sys\n",
    "import csv\n",
    "import json \n",
    "import glob\n",
    "import numpy as np\n",
    "import pandas as pd\n",
    "from datetime import datetime\n",
    "import matplotlib.pyplot as plt\n",
    "from collections import OrderedDict\n",
    "from pysocialwatcher import watcherAPI \n",
    "from utils import * \n",
    "% matplotlib inline"
   ]
  },
  {
   "cell_type": "markdown",
   "metadata": {},
   "source": [
    "### module documentation ###\n",
    "* standard library modules:\n",
    "    * [os](https://docs.python.org/2.7/library/os.html)\n",
    "    * [re](https://docs.python.org/2.7/library/re.html)\n",
    "    * [csv](https://docs.python.org/2.7/library/csv.html)\n",
    "    * [sys](https://docs.python.org/2.7/library/sys.html)\n",
    "    * [json](https://docs.python.org/2.7/library/json.html)\n",
    "    * [glob](https://docs.python.org/2.7/library/glob.html)\n",
    "    * [datetime](https://docs.python.org/2.7/library/datetime.html)\n",
    "    * [collections](https://docs.python.org/2.7/library/collections.html)\n",
    "* open source modules:\n",
    "    * [numpy](http://www.numpy.org/)\n",
    "    * [pandas](http://pandas.pydata.org)\n",
    "    * [matplotlib](http://matplotlib.org/)\n",
    "    * [pySocialWatcher](https://github.com/maraujo/pySocialWatcher)"
   ]
  },
  {
   "cell_type": "markdown",
   "metadata": {},
   "source": [
    "### Python classes and functions\n",
    "- modules allow for the creation of object classes and specific functions\n",
    "- a class is an object that has certain features\n",
    "    * [class documentation](https://docs.python.org/2.7/tutorial/classes.html)\n",
    "- using a function within a Python module\n",
    "    * functions within a module are accessed by typing the name for the module in the namespace and then a period (.)\n",
    "        * example: view current working directory (function) within the os module\n",
    "        * `os.getcwd()`\n",
    "        * similar to `getwd()` in R"
   ]
  },
  {
   "cell_type": "code",
   "execution_count": null,
   "metadata": {
    "collapsed": false
   },
   "outputs": [],
   "source": [
    "os.getcwd()"
   ]
  },
  {
   "cell_type": "markdown",
   "metadata": {},
   "source": [
    "## Register for Facebook Marketing API access: \n",
    "* Go to https://developers.facebook.com/apps/\n",
    "* Click \"Get Started\" in the top right\n",
    "* Create a new app by clicking on \"+ Add a New App\" and follow the process minimally \n",
    "* In the app's dashboard page, click \"+ Add product\" in the toolbar on the left\n",
    "* Select \"Marketing\" Product Setup\n",
    "* Click \"Get Access Token\"\n",
    "* Click \"Extend Access Token\" button (at the bottom) (the button may not show up right away, just refresh the page)\n",
    "    * The access token that shows up under the form is the one you want! It will look something like this:\n",
    "    EAAHMonBrQ5kBALhYvCnLRsNRyO9YJH8I6ZBKwby5cLrS4V2GZAC2GT2MbDHXjpwnfvkPB0ZBv7knZAP1wRzKQVZAxd7fAsQTDAVrE0H3hUffFZBuRlncX0cAMVj8sIKLN68U6BxDAogvIdluX8tAMK\n",
    "\n",
    "* Finally, you want to get your Ads Manager Account ID.\n",
    "* Go to https://www.facebook.com/business/ and click \"Create Advert\"\n",
    "* In URL, copy the part starting with act= such as:\n",
    "https://www.facebook.com/ads/manager/creation/creation/?act=952863473440&pid=p1\n",
    "### Create facebook_credentials.csv\n",
    "* change directory to the credentials folder\n",
    "    * create a .csv file named \"facebook_credentials.csv\"\n",
    "    * paste your Facebook Access Token in the first row, first column\n",
    "    * paste your Ads Manager Account ID in the first row, second column"
   ]
  },
  {
   "cell_type": "markdown",
   "metadata": {},
   "source": [
    "### Load Facebook credentials\n",
    "- `watcherAPI()` is a class within the pySocialWathcer module that makes requests with the Facebook Marketing API\n",
    "    * `watcherAPI()` has multiple attributes including credentials\n",
    "- `load_credentials_file` is a function within the watcher class that allows users to upload a .csv of Facebook Marketing API credentials\n",
    " - `check_tokens_account_valid` is a function that sends a generic example request to the Facebook Marketing API to assess the validity of the credentials loaded from the `load_credentials_file` function"
   ]
  },
  {
   "cell_type": "code",
   "execution_count": 3,
   "metadata": {
    "collapsed": false
   },
   "outputs": [
    {
     "name": "stderr",
     "output_type": "stream",
     "text": [
      "2017-04-26 12:35:30 Kivans-MacBook-Pro.local root[7249] INFO Testing tokens and account number\n",
      "2017-04-26 12:35:30 Kivans-MacBook-Pro.local root[7249] INFO \tSending in request: {\"genders\": [0], \"geo_locations\": {\"regions\": [{\"key\": \"3843\"}], \"location_types\": [\"home\"]}}\n",
      "2017-04-26 12:35:30 Kivans-MacBook-Pro.local requests.packages.urllib3.connectionpool[7249] INFO Starting new HTTPS connection (1): graph.facebook.com\n",
      "2017-04-26 12:35:31 Kivans-MacBook-Pro.local root[7249] INFO All tokens and respective account number are valid.\n"
     ]
    }
   ],
   "source": [
    "watcher = watcherAPI() \n",
    "watcher.load_credentials_file(\"../credentials/facebook_credentials.csv\")\n",
    "watcher.check_tokens_account_valid()"
   ]
  },
  {
   "cell_type": "markdown",
   "metadata": {},
   "source": [
    "### Explore pySocialWatcher module\n",
    "- Can gather demographic and event parameters available on the Marketing API\n",
    "    * [Demographic and event targeting parameters](https://developers.facebook.com/docs/marketing-api/targeting-specs/v2.9)\n",
    "- **ALL** search parameters, such as city name must map to a (numeric) key value known the the Marketing API\n",
    "- `print_geo_locations_given_query_and_location_type`\n",
    "    * function to search for Facebook key of cities by name\n",
    "        * e.g. search for cities that have \"new\" in their name "
   ]
  },
  {
   "cell_type": "code",
   "execution_count": null,
   "metadata": {
    "collapsed": false
   },
   "outputs": [],
   "source": [
    "watcherAPI.print_geo_locations_given_query_and_location_type(\"new\", [\"city\"])"
   ]
  },
  {
   "cell_type": "code",
   "execution_count": 4,
   "metadata": {
    "collapsed": false
   },
   "outputs": [
    {
     "name": "stdout",
     "output_type": "stream",
     "text": [
      "I used to think the brain was the most important organ.\n",
      "Then I thought, look what’s telling me that.\n"
     ]
    }
   ],
   "source": [
    "watcher.print_bad_joke()"
   ]
  },
  {
   "cell_type": "markdown",
   "metadata": {},
   "source": [
    "### view available \"behaviors\" parameters\n",
    "- can segment demographic groups by multiple parameters including \"behaviors\""
   ]
  },
  {
   "cell_type": "code",
   "execution_count": null,
   "metadata": {
    "collapsed": false
   },
   "outputs": [],
   "source": [
    "watcher.print_behaviors_list()"
   ]
  },
  {
   "cell_type": "markdown",
   "metadata": {},
   "source": [
    "- read in a .csv file with pandas module's `read_table` function\n",
    "    * converts a .csv file into a dataframe\n",
    "- this .csv contains all 50 US states and their correspond Facebook Marketin API location key (FB_key)"
   ]
  },
  {
   "cell_type": "code",
   "execution_count": 5,
   "metadata": {
    "collapsed": false
   },
   "outputs": [
    {
     "data": {
      "text/html": [
       "<div>\n",
       "<table border=\"1\" class=\"dataframe\">\n",
       "  <thead>\n",
       "    <tr style=\"text-align: right;\">\n",
       "      <th></th>\n",
       "      <th>Abbreviation</th>\n",
       "      <th>State Name</th>\n",
       "      <th>FB_key</th>\n",
       "    </tr>\n",
       "  </thead>\n",
       "  <tbody>\n",
       "    <tr>\n",
       "      <th>0</th>\n",
       "      <td>AL</td>\n",
       "      <td>Alabama</td>\n",
       "      <td>3843</td>\n",
       "    </tr>\n",
       "    <tr>\n",
       "      <th>1</th>\n",
       "      <td>AK</td>\n",
       "      <td>Alaska</td>\n",
       "      <td>3844</td>\n",
       "    </tr>\n",
       "    <tr>\n",
       "      <th>2</th>\n",
       "      <td>AZ</td>\n",
       "      <td>Arizona</td>\n",
       "      <td>3845</td>\n",
       "    </tr>\n",
       "    <tr>\n",
       "      <th>3</th>\n",
       "      <td>AR</td>\n",
       "      <td>Arkansas</td>\n",
       "      <td>3846</td>\n",
       "    </tr>\n",
       "    <tr>\n",
       "      <th>4</th>\n",
       "      <td>CA</td>\n",
       "      <td>California</td>\n",
       "      <td>3847</td>\n",
       "    </tr>\n",
       "  </tbody>\n",
       "</table>\n",
       "</div>"
      ],
      "text/plain": [
       "  Abbreviation  State Name  FB_key\n",
       "0           AL     Alabama    3843\n",
       "1           AK      Alaska    3844\n",
       "2           AZ     Arizona    3845\n",
       "3           AR    Arkansas    3846\n",
       "4           CA  California    3847"
      ]
     },
     "execution_count": 5,
     "metadata": {},
     "output_type": "execute_result"
    }
   ],
   "source": [
    "US_states = pd.read_table(\"../data/US_states.csv\", sep = \",\", header=0)\n",
    "US_states.head()"
   ]
  },
  {
   "cell_type": "markdown",
   "metadata": {},
   "source": [
    "### View an entire row in a dataframe"
   ]
  },
  {
   "cell_type": "code",
   "execution_count": 6,
   "metadata": {
    "collapsed": false
   },
   "outputs": [
    {
     "data": {
      "text/plain": [
       "Abbreviation          IL\n",
       "State Name      Illinois\n",
       "FB_key              3856\n",
       "Name: 12, dtype: object"
      ]
     },
     "execution_count": 6,
     "metadata": {},
     "output_type": "execute_result"
    }
   ],
   "source": [
    "US_states.iloc[12]"
   ]
  },
  {
   "cell_type": "markdown",
   "metadata": {},
   "source": [
    "### Making API request with pySocialWatcher\n",
    "- watcher class has a `run_data_collection` function\n",
    "- `run_data_collection` takes a .json file as an input and creates an API request\n",
    "- output from `run_data_collection` is a pandas dataframe and .csv files\n",
    "\n",
    "#### creating .json input files\n",
    "- the following code creates a dictionary and saves a .json file (\"IL_example.json\") in the data folder\n",
    "- we can convert Python dictionaries into .json files for the `run_data_collection` function"
   ]
  },
  {
   "cell_type": "code",
   "execution_count": 7,
   "metadata": {
    "collapsed": false
   },
   "outputs": [
    {
     "name": "stdout",
     "output_type": "stream",
     "text": [
      "{\n",
      "    \"name\": \"IL_example\", \n",
      "    \"genders\": [\n",
      "        0, \n",
      "        1, \n",
      "        2\n",
      "    ], \n",
      "    \"ages_ranges\": [\n",
      "        {\n",
      "            \"max\": 65, \n",
      "            \"min\": 13\n",
      "        }\n",
      "    ], \n",
      "    \"geo_locations\": [\n",
      "        {\n",
      "            \"values\": [\n",
      "                {\n",
      "                    \"key\": \"3856\"\n",
      "                }\n",
      "            ], \n",
      "            \"name\": \"regions\", \n",
      "            \"location_types\": [\n",
      "                \"home\"\n",
      "            ]\n",
      "        }\n",
      "    ]\n",
      "}\n"
     ]
    }
   ],
   "source": [
    "illinois_dic={\"name\": \"IL_example\",  \"geo_locations\": [{\"name\": \"regions\",\n",
    "                                                           \"values\": [{\"key\":str(US_states[\"FB_key\"][12])}],\n",
    "                                                          \"location_types\": [\"home\"]}],\n",
    "          \"genders\": [0,1,2],\n",
    "          \"ages_ranges\": [{\"min\":13, \"max\":65}]}\n",
    "\n",
    "illinois_dic_ordered = OrderedDict(sorted(illinois_dic.items(),key=lambda t: len(t[0])))\n",
    "illinois_dic_json=json.dumps(illinois_dic_ordered, indent = 4)\n",
    "print illinois_dic_json\n",
    "\n",
    "file_name = \"IL_example.json\"\n",
    "\n",
    "with open('../data/%s' % file_name, 'w') as outfile:\n",
    "    outfile.write(json.dumps(illinois_dic_ordered, indent = 4))"
   ]
  },
  {
   "cell_type": "markdown",
   "metadata": {},
   "source": [
    "make a request to the Marketing API with the example dictionary created above"
   ]
  },
  {
   "cell_type": "code",
   "execution_count": null,
   "metadata": {
    "collapsed": false
   },
   "outputs": [],
   "source": [
    "watcher.run_data_collection(\"../data/%s\" % file_name)"
   ]
  },
  {
   "cell_type": "markdown",
   "metadata": {},
   "source": [
    "## Use pySocialWatcher to analyze a specific behavior\n",
    "### get data on new movers\n",
    "6029662272682 | This Life Event segment contains consumers who are likely to be new movers in the last 6 months.| New mover \n",
    "\n",
    "- the following code creates a new dictionary that incorporates (new mover) behavior and saves a .json file (\"IL_example_new_movers.json\") in the data folder"
   ]
  },
  {
   "cell_type": "code",
   "execution_count": null,
   "metadata": {
    "collapsed": false
   },
   "outputs": [],
   "source": [
    "illinois_dic_new_movers={\"name\": \"IL_example\",  \"geo_locations\": [{\"name\": \"regions\",\n",
    "                                                           \"values\": [{\"key\":str(US_states[\"FB_key\"][12])}],\n",
    "                                                          \"location_types\": [\"home\"]}],\n",
    "          \"genders\": [0,1,2],\n",
    "          \"ages_ranges\": [{\"min\":13, \"max\":65}],\n",
    "          \"behavior\":[{\"or\": [6029662272682],\"name\": \"new_mover\"}]}\n",
    "\n",
    "illinois_dic_new_movers_ordered = OrderedDict(sorted(illinois_dic_new_movers.items(),key=lambda t: len(t[0])))\n",
    "illinois_dic_new_movers_json=json.dumps(illinois_dic_new_movers_ordered, indent = 4)\n",
    "print illinois_dic_new_movers_json\n",
    "\n",
    "file_name = \"IL_example_new_movers.json\"\n",
    "\n",
    "with open('../data/%s' % file_name, 'w') as outfile:\n",
    "    outfile.write(json.dumps(illinois_dic_new_movers_ordered, indent = 4))"
   ]
  },
  {
   "cell_type": "markdown",
   "metadata": {},
   "source": [
    "make a request to the Marketing API with the new movers dictionary created above"
   ]
  },
  {
   "cell_type": "code",
   "execution_count": null,
   "metadata": {
    "collapsed": false
   },
   "outputs": [],
   "source": [
    "watcher.run_data_collection(\"../data/%s\" % file_name)"
   ]
  },
  {
   "cell_type": "markdown",
   "metadata": {},
   "source": [
    "## Comparing states\n",
    "- use pandas to subset US_states dataframe"
   ]
  },
  {
   "cell_type": "code",
   "execution_count": 8,
   "metadata": {
    "collapsed": false
   },
   "outputs": [
    {
     "data": {
      "text/html": [
       "<div>\n",
       "<table border=\"1\" class=\"dataframe\">\n",
       "  <thead>\n",
       "    <tr style=\"text-align: right;\">\n",
       "      <th></th>\n",
       "      <th>Abbreviation</th>\n",
       "      <th>State Name</th>\n",
       "      <th>FB_key</th>\n",
       "    </tr>\n",
       "  </thead>\n",
       "  <tbody>\n",
       "    <tr>\n",
       "      <th>0</th>\n",
       "      <td>CA</td>\n",
       "      <td>California</td>\n",
       "      <td>3847</td>\n",
       "    </tr>\n",
       "    <tr>\n",
       "      <th>1</th>\n",
       "      <td>IL</td>\n",
       "      <td>Illinois</td>\n",
       "      <td>3856</td>\n",
       "    </tr>\n",
       "    <tr>\n",
       "      <th>2</th>\n",
       "      <td>NY</td>\n",
       "      <td>New York</td>\n",
       "      <td>3875</td>\n",
       "    </tr>\n",
       "    <tr>\n",
       "      <th>3</th>\n",
       "      <td>TX</td>\n",
       "      <td>Texas</td>\n",
       "      <td>3886</td>\n",
       "    </tr>\n",
       "  </tbody>\n",
       "</table>\n",
       "</div>"
      ],
      "text/plain": [
       "  Abbreviation  State Name  FB_key\n",
       "0           CA  California    3847\n",
       "1           IL    Illinois    3856\n",
       "2           NY    New York    3875\n",
       "3           TX       Texas    3886"
      ]
     },
     "execution_count": 8,
     "metadata": {},
     "output_type": "execute_result"
    }
   ],
   "source": [
    "state_subset = US_states.loc[US_states['Abbreviation'].isin([\"CA\",\"NY\", \"TX\", \"IL\"])]\n",
    "# reindex state_subset\n",
    "state_subset.index = [0,1,2,3]\n",
    "state_subset"
   ]
  },
  {
   "cell_type": "markdown",
   "metadata": {},
   "source": [
    "- loop through subset dataframe to create folders"
   ]
  },
  {
   "cell_type": "code",
   "execution_count": null,
   "metadata": {
    "collapsed": false
   },
   "outputs": [],
   "source": [
    "for state in range(0, len(state_subset[\"State Name\"])):\n",
    "    if not os.path.exists('../data/new_movers_by_state/%s' % state_subset[\"State Name\"][state]):\n",
    "        os.makedirs('../data/new_movers_by_state/%s' % state_subset[\"State Name\"][state])"
   ]
  },
  {
   "cell_type": "markdown",
   "metadata": {},
   "source": [
    "- create (UN) age groups, another parameter that can be iterated through during API requests"
   ]
  },
  {
   "cell_type": "code",
   "execution_count": null,
   "metadata": {
    "collapsed": true
   },
   "outputs": [],
   "source": [
    "UN_age_min = [13,15, 20, 25, 30, 35, 40, 45, 50, 55, 60]\n",
    "UN_age_max = [65,19, 24, 29, 34, 39, 44, 49, 54, 59, 65]\n",
    "UN_age_table = {'age_min': UN_age_min, 'age_max': UN_age_max}\n",
    "UN_age_table_df = pd.DataFrame(data=UN_age_table, index=None)\n",
    "UN_age_table_df = UN_age_table_df[[\"age_min\", \"age_max\"]]\n",
    "UN_age_table_df.to_csv(\"../data/UN_age_table.csv\", index=None)"
   ]
  },
  {
   "cell_type": "markdown",
   "metadata": {},
   "source": [
    "- loop through each state in the subset dataframe and create .json files for estimating new movers"
   ]
  },
  {
   "cell_type": "code",
   "execution_count": null,
   "metadata": {
    "collapsed": false
   },
   "outputs": [],
   "source": [
    "ctr = 0\n",
    "for state in range(0, len(state_subset[\"State Name\"])):\n",
    "    state_dic={\"name\": str(state_subset[\"State Name\"][state])+\"_new_movers\",\n",
    "               \"geo_locations\": [{\"name\": \"regions\", \"values\": [{\"key\":str(US_states[\"FB_key\"][state])}],\n",
    "                                                          \"location_types\": [\"home\"]}],\n",
    "          \"genders\": [0,1,2],\n",
    "          \"ages_ranges\": [{\"min\":13, \"max\":65}],\n",
    "          \"behavior\":[{\"or\": [6029662272682],\"name\": \"new_movers\"}]}\n",
    "    state_dic[\"geo_locations\"][0][\"values\"][0]['key'] = str(state_subset[\"FB_key\"][state])\n",
    "    state_dic_ordered = OrderedDict(sorted(state_dic.items(),key=lambda t: len(t[0])))\n",
    "    state_dic_json=json.dumps(state_dic_ordered, indent = 4)\n",
    "    gender_dict = {'0':'female_male_total_pop'}\n",
    "    file_name = str(state_subset[\"State Name\"][state])+\"_new_movers\"+\".json\"\n",
    "    state_folder = state_subset[\"State Name\"][state]\n",
    "\n",
    "    if not os.path.exists('../data/new_movers_by_state/%s/api_requests_json' % state_folder):\n",
    "        os.makedirs('../data/new_movers_by_state/%s/api_requests_json' % state_folder)\n",
    "\n",
    "    if not os.path.exists('../data/new_movers_by_state/%s/api_requests_csv' % state_folder):\n",
    "        os.makedirs('../data/new_movers_by_state/%s/api_requests_csv' % state_folder)\n",
    "\n",
    "\n",
    "    with open('../data/new_movers_by_state/%s/api_requests_json/%s' % (state_folder,file_name), 'w') as outfile:\n",
    "        outfile.write(json.dumps(state_dic_ordered, indent = 4))\n",
    "\n",
    "    state_api_request = watcher.run_data_collection('../data/new_movers_by_state/%s/api_requests_json/%s' % (state_folder,file_name))\n",
    "    state_api_request\n",
    "    state_api_request.insert(0, \"state\",state_subset[\"State Name\"][state])\n",
    "    csv_filename = file_name.split(\".\")[0]+\".csv\"\n",
    "    state_api_request.to_csv(\"../data/new_movers_by_state/%s/api_requests_csv/%s\" % (state_folder,csv_filename),\n",
    "                        index=False) \n",
    "\n",
    "    ctr = ctr +1\n",
    "    total =len(state_subset[\"State Name\"])\n",
    "    print(\"file %.f of %.f \" % (ctr,total))\n",
    "    print(file_name)\n",
    "\n"
   ]
  },
  {
   "cell_type": "code",
   "execution_count": null,
   "metadata": {
    "collapsed": false
   },
   "outputs": [],
   "source": [
    "%rm collect_finished_* dataframe_collecting_*  dataframe_skeleton_*"
   ]
  },
  {
   "cell_type": "markdown",
   "metadata": {},
   "source": [
    "use `merge_subdirectories` function from utils to merge all folders directory of new movers by state into one .csv file"
   ]
  },
  {
   "cell_type": "code",
   "execution_count": null,
   "metadata": {
    "collapsed": false
   },
   "outputs": [],
   "source": [
    "merge_subdirectories('../data/new_movers_by_state/',\n",
    "                     'raw_new_movers_data.csv')"
   ]
  },
  {
   "cell_type": "markdown",
   "metadata": {},
   "source": [
    "read in merged .csv file of new movers by state"
   ]
  },
  {
   "cell_type": "code",
   "execution_count": 9,
   "metadata": {
    "collapsed": false
   },
   "outputs": [
    {
     "data": {
      "text/html": [
       "<div>\n",
       "<table border=\"1\" class=\"dataframe\">\n",
       "  <thead>\n",
       "    <tr style=\"text-align: right;\">\n",
       "      <th></th>\n",
       "      <th>state</th>\n",
       "      <th>name</th>\n",
       "      <th>ages_ranges</th>\n",
       "      <th>geo_locations</th>\n",
       "      <th>genders</th>\n",
       "      <th>interests</th>\n",
       "      <th>behavior</th>\n",
       "      <th>scholarities</th>\n",
       "      <th>languages</th>\n",
       "      <th>family_statuses</th>\n",
       "      <th>all_fields</th>\n",
       "      <th>targeting</th>\n",
       "      <th>response</th>\n",
       "      <th>audience</th>\n",
       "    </tr>\n",
       "  </thead>\n",
       "  <tbody>\n",
       "    <tr>\n",
       "      <th>0</th>\n",
       "      <td>California</td>\n",
       "      <td>California_new_movers</td>\n",
       "      <td>{u'max': 65, u'min': 13}</td>\n",
       "      <td>{u'values': [{u'key': u'3847'}], u'name': u're...</td>\n",
       "      <td>0.0</td>\n",
       "      <td>NaN</td>\n",
       "      <td>{u'or': [6029662272682], u'name': u'new_movers'}</td>\n",
       "      <td>NaN</td>\n",
       "      <td>NaN</td>\n",
       "      <td>NaN</td>\n",
       "      <td>(('genders', 0), ('ages_ranges', {u'max': 65, ...</td>\n",
       "      <td>{'flexible_spec': [{'behaviors': [{'id': 60296...</td>\n",
       "      <td>{\"data\":{\"users\":540000,\"bid_estimations\":[{\"u...</td>\n",
       "      <td>540000</td>\n",
       "    </tr>\n",
       "    <tr>\n",
       "      <th>1</th>\n",
       "      <td>California</td>\n",
       "      <td>California_new_movers</td>\n",
       "      <td>{u'max': 65, u'min': 13}</td>\n",
       "      <td>{u'values': [{u'key': u'3847'}], u'name': u're...</td>\n",
       "      <td>1.0</td>\n",
       "      <td>NaN</td>\n",
       "      <td>{u'or': [6029662272682], u'name': u'new_movers'}</td>\n",
       "      <td>NaN</td>\n",
       "      <td>NaN</td>\n",
       "      <td>NaN</td>\n",
       "      <td>(('genders', 1), ('ages_ranges', {u'max': 65, ...</td>\n",
       "      <td>{'flexible_spec': [{'behaviors': [{'id': 60296...</td>\n",
       "      <td>{\"data\":{\"users\":240000,\"bid_estimations\":[{\"u...</td>\n",
       "      <td>240000</td>\n",
       "    </tr>\n",
       "    <tr>\n",
       "      <th>2</th>\n",
       "      <td>California</td>\n",
       "      <td>California_new_movers</td>\n",
       "      <td>{u'max': 65, u'min': 13}</td>\n",
       "      <td>{u'values': [{u'key': u'3847'}], u'name': u're...</td>\n",
       "      <td>2.0</td>\n",
       "      <td>NaN</td>\n",
       "      <td>{u'or': [6029662272682], u'name': u'new_movers'}</td>\n",
       "      <td>NaN</td>\n",
       "      <td>NaN</td>\n",
       "      <td>NaN</td>\n",
       "      <td>(('genders', 2), ('ages_ranges', {u'max': 65, ...</td>\n",
       "      <td>{'flexible_spec': [{'behaviors': [{'id': 60296...</td>\n",
       "      <td>{\"data\":{\"users\":290000,\"bid_estimations\":[{\"u...</td>\n",
       "      <td>290000</td>\n",
       "    </tr>\n",
       "    <tr>\n",
       "      <th>3</th>\n",
       "      <td>Illinois</td>\n",
       "      <td>Illinois_new_movers</td>\n",
       "      <td>{u'max': 65, u'min': 13}</td>\n",
       "      <td>{u'values': [{u'key': u'3856'}], u'name': u're...</td>\n",
       "      <td>0.0</td>\n",
       "      <td>NaN</td>\n",
       "      <td>{u'or': [6029662272682], u'name': u'new_movers'}</td>\n",
       "      <td>NaN</td>\n",
       "      <td>NaN</td>\n",
       "      <td>NaN</td>\n",
       "      <td>(('genders', 0), ('ages_ranges', {u'max': 65, ...</td>\n",
       "      <td>{'flexible_spec': [{'behaviors': [{'id': 60296...</td>\n",
       "      <td>{\"data\":{\"users\":220000,\"bid_estimations\":[{\"u...</td>\n",
       "      <td>220000</td>\n",
       "    </tr>\n",
       "    <tr>\n",
       "      <th>4</th>\n",
       "      <td>Illinois</td>\n",
       "      <td>Illinois_new_movers</td>\n",
       "      <td>{u'max': 65, u'min': 13}</td>\n",
       "      <td>{u'values': [{u'key': u'3856'}], u'name': u're...</td>\n",
       "      <td>1.0</td>\n",
       "      <td>NaN</td>\n",
       "      <td>{u'or': [6029662272682], u'name': u'new_movers'}</td>\n",
       "      <td>NaN</td>\n",
       "      <td>NaN</td>\n",
       "      <td>NaN</td>\n",
       "      <td>(('genders', 1), ('ages_ranges', {u'max': 65, ...</td>\n",
       "      <td>{'flexible_spec': [{'behaviors': [{'id': 60296...</td>\n",
       "      <td>{\"data\":{\"users\":97000,\"bid_estimations\":[{\"un...</td>\n",
       "      <td>97000</td>\n",
       "    </tr>\n",
       "  </tbody>\n",
       "</table>\n",
       "</div>"
      ],
      "text/plain": [
       "        state                   name               ages_ranges  \\\n",
       "0  California  California_new_movers  {u'max': 65, u'min': 13}   \n",
       "1  California  California_new_movers  {u'max': 65, u'min': 13}   \n",
       "2  California  California_new_movers  {u'max': 65, u'min': 13}   \n",
       "3    Illinois    Illinois_new_movers  {u'max': 65, u'min': 13}   \n",
       "4    Illinois    Illinois_new_movers  {u'max': 65, u'min': 13}   \n",
       "\n",
       "                                       geo_locations  genders  interests  \\\n",
       "0  {u'values': [{u'key': u'3847'}], u'name': u're...      0.0        NaN   \n",
       "1  {u'values': [{u'key': u'3847'}], u'name': u're...      1.0        NaN   \n",
       "2  {u'values': [{u'key': u'3847'}], u'name': u're...      2.0        NaN   \n",
       "3  {u'values': [{u'key': u'3856'}], u'name': u're...      0.0        NaN   \n",
       "4  {u'values': [{u'key': u'3856'}], u'name': u're...      1.0        NaN   \n",
       "\n",
       "                                           behavior  scholarities  languages  \\\n",
       "0  {u'or': [6029662272682], u'name': u'new_movers'}           NaN        NaN   \n",
       "1  {u'or': [6029662272682], u'name': u'new_movers'}           NaN        NaN   \n",
       "2  {u'or': [6029662272682], u'name': u'new_movers'}           NaN        NaN   \n",
       "3  {u'or': [6029662272682], u'name': u'new_movers'}           NaN        NaN   \n",
       "4  {u'or': [6029662272682], u'name': u'new_movers'}           NaN        NaN   \n",
       "\n",
       "   family_statuses                                         all_fields  \\\n",
       "0              NaN  (('genders', 0), ('ages_ranges', {u'max': 65, ...   \n",
       "1              NaN  (('genders', 1), ('ages_ranges', {u'max': 65, ...   \n",
       "2              NaN  (('genders', 2), ('ages_ranges', {u'max': 65, ...   \n",
       "3              NaN  (('genders', 0), ('ages_ranges', {u'max': 65, ...   \n",
       "4              NaN  (('genders', 1), ('ages_ranges', {u'max': 65, ...   \n",
       "\n",
       "                                           targeting  \\\n",
       "0  {'flexible_spec': [{'behaviors': [{'id': 60296...   \n",
       "1  {'flexible_spec': [{'behaviors': [{'id': 60296...   \n",
       "2  {'flexible_spec': [{'behaviors': [{'id': 60296...   \n",
       "3  {'flexible_spec': [{'behaviors': [{'id': 60296...   \n",
       "4  {'flexible_spec': [{'behaviors': [{'id': 60296...   \n",
       "\n",
       "                                            response  audience  \n",
       "0  {\"data\":{\"users\":540000,\"bid_estimations\":[{\"u...    540000  \n",
       "1  {\"data\":{\"users\":240000,\"bid_estimations\":[{\"u...    240000  \n",
       "2  {\"data\":{\"users\":290000,\"bid_estimations\":[{\"u...    290000  \n",
       "3  {\"data\":{\"users\":220000,\"bid_estimations\":[{\"u...    220000  \n",
       "4  {\"data\":{\"users\":97000,\"bid_estimations\":[{\"un...     97000  "
      ]
     },
     "execution_count": 9,
     "metadata": {},
     "output_type": "execute_result"
    }
   ],
   "source": [
    "raw_new_movers_data = pd.read_csv(\"../data/raw_new_movers_data.csv\")\n",
    "raw_new_movers_data.head()"
   ]
  },
  {
   "cell_type": "code",
   "execution_count": 10,
   "metadata": {
    "collapsed": false
   },
   "outputs": [
    {
     "name": "stdout",
     "output_type": "stream",
     "text": [
      "the data has 12 rows and 14 columns\n",
      "state               object\n",
      "name                object\n",
      "ages_ranges         object\n",
      "geo_locations       object\n",
      "genders            float64\n",
      "interests          float64\n",
      "behavior            object\n",
      "scholarities       float64\n",
      "languages          float64\n",
      "family_statuses    float64\n",
      "all_fields          object\n",
      "targeting           object\n",
      "response            object\n",
      "audience             int64\n",
      "dtype: object\n"
     ]
    }
   ],
   "source": [
    "print(\"the data has %s rows and %s columns\" % (raw_new_movers_data.shape[0], raw_new_movers_data.shape[1]))\n",
    "print(raw_new_movers_data.dtypes)"
   ]
  },
  {
   "cell_type": "markdown",
   "metadata": {},
   "source": [
    "use `process_facebook_data` function from utils to munge dataframe of merged movers"
   ]
  },
  {
   "cell_type": "code",
   "execution_count": 11,
   "metadata": {
    "collapsed": false
   },
   "outputs": [
    {
     "name": "stderr",
     "output_type": "stream",
     "text": [
      "utils.py:58: SettingWithCopyWarning: \n",
      "A value is trying to be set on a copy of a slice from a DataFrame.\n",
      "Try using .loc[row_indexer,col_indexer] = value instead\n",
      "\n",
      "See the caveats in the documentation: http://pandas.pydata.org/pandas-docs/stable/indexing.html#indexing-view-versus-copy\n",
      "  df[\"behavior\"] = df.loc[:, (\"behavior\")].apply(lambda x: re.findall(r'\\d+',x))\n",
      "utils.py:59: SettingWithCopyWarning: \n",
      "A value is trying to be set on a copy of a slice from a DataFrame.\n",
      "Try using .loc[row_indexer,col_indexer] = value instead\n",
      "\n",
      "See the caveats in the documentation: http://pandas.pydata.org/pandas-docs/stable/indexing.html#indexing-view-versus-copy\n",
      "  df[\"behavior\"] = df.loc[:, (\"behavior\")].apply(lambda x: ''.join(x))\n",
      "utils.py:60: SettingWithCopyWarning: \n",
      "A value is trying to be set on a copy of a slice from a DataFrame.\n",
      "Try using .loc[row_indexer,col_indexer] = value instead\n",
      "\n",
      "See the caveats in the documentation: http://pandas.pydata.org/pandas-docs/stable/indexing.html#indexing-view-versus-copy\n",
      "  df[\"genders\"] = df.loc[:, (\"genders\")].astype('string')\n",
      "utils.py:61: SettingWithCopyWarning: \n",
      "A value is trying to be set on a copy of a slice from a DataFrame.\n",
      "Try using .loc[row_indexer,col_indexer] = value instead\n",
      "\n",
      "See the caveats in the documentation: http://pandas.pydata.org/pandas-docs/stable/indexing.html#indexing-view-versus-copy\n",
      "  df[\"genders\"] = df.loc[:, (\"genders\")].replace(gender_map)\n",
      "utils.py:62: SettingWithCopyWarning: \n",
      "A value is trying to be set on a copy of a slice from a DataFrame.\n",
      "Try using .loc[row_indexer,col_indexer] = value instead\n",
      "\n",
      "See the caveats in the documentation: http://pandas.pydata.org/pandas-docs/stable/indexing.html#indexing-view-versus-copy\n",
      "  df[\"ages_ranges\"] = df[\"ages_ranges\"].apply(lambda x: age_map[x[-3:-1]])\n",
      "utils.py:63: SettingWithCopyWarning: \n",
      "A value is trying to be set on a copy of a slice from a DataFrame.\n",
      "Try using .loc[row_indexer,col_indexer] = value instead\n",
      "\n",
      "See the caveats in the documentation: http://pandas.pydata.org/pandas-docs/stable/indexing.html#indexing-view-versus-copy\n",
      "  df[\"genders\"] = df.loc[:, (\"genders\")].astype('string')\n",
      "utils.py:64: SettingWithCopyWarning: \n",
      "A value is trying to be set on a copy of a slice from a DataFrame.\n",
      "Try using .loc[row_indexer,col_indexer] = value instead\n",
      "\n",
      "See the caveats in the documentation: http://pandas.pydata.org/pandas-docs/stable/indexing.html#indexing-view-versus-copy\n",
      "  df[\"genders\"] = df.loc[:, (\"genders\")].replace(gender_map)\n"
     ]
    },
    {
     "data": {
      "text/html": [
       "<div>\n",
       "<table border=\"1\" class=\"dataframe\">\n",
       "  <thead>\n",
       "    <tr style=\"text-align: right;\">\n",
       "      <th></th>\n",
       "      <th>state</th>\n",
       "      <th>name</th>\n",
       "      <th>ages_ranges</th>\n",
       "      <th>genders</th>\n",
       "      <th>behavior</th>\n",
       "      <th>audience</th>\n",
       "    </tr>\n",
       "  </thead>\n",
       "  <tbody>\n",
       "    <tr>\n",
       "      <th>0</th>\n",
       "      <td>California</td>\n",
       "      <td>California_new_movers</td>\n",
       "      <td>ages_13_65</td>\n",
       "      <td>total population</td>\n",
       "      <td>6029662272682</td>\n",
       "      <td>540000</td>\n",
       "    </tr>\n",
       "    <tr>\n",
       "      <th>1</th>\n",
       "      <td>California</td>\n",
       "      <td>California_new_movers</td>\n",
       "      <td>ages_13_65</td>\n",
       "      <td>female</td>\n",
       "      <td>6029662272682</td>\n",
       "      <td>240000</td>\n",
       "    </tr>\n",
       "    <tr>\n",
       "      <th>2</th>\n",
       "      <td>California</td>\n",
       "      <td>California_new_movers</td>\n",
       "      <td>ages_13_65</td>\n",
       "      <td>male</td>\n",
       "      <td>6029662272682</td>\n",
       "      <td>290000</td>\n",
       "    </tr>\n",
       "    <tr>\n",
       "      <th>3</th>\n",
       "      <td>Illinois</td>\n",
       "      <td>Illinois_new_movers</td>\n",
       "      <td>ages_13_65</td>\n",
       "      <td>total population</td>\n",
       "      <td>6029662272682</td>\n",
       "      <td>220000</td>\n",
       "    </tr>\n",
       "    <tr>\n",
       "      <th>4</th>\n",
       "      <td>Illinois</td>\n",
       "      <td>Illinois_new_movers</td>\n",
       "      <td>ages_13_65</td>\n",
       "      <td>female</td>\n",
       "      <td>6029662272682</td>\n",
       "      <td>97000</td>\n",
       "    </tr>\n",
       "  </tbody>\n",
       "</table>\n",
       "</div>"
      ],
      "text/plain": [
       "        state                   name ages_ranges           genders  \\\n",
       "0  California  California_new_movers  ages_13_65  total population   \n",
       "1  California  California_new_movers  ages_13_65            female   \n",
       "2  California  California_new_movers  ages_13_65              male   \n",
       "3    Illinois    Illinois_new_movers  ages_13_65  total population   \n",
       "4    Illinois    Illinois_new_movers  ages_13_65            female   \n",
       "\n",
       "        behavior  audience  \n",
       "0  6029662272682    540000  \n",
       "1  6029662272682    240000  \n",
       "2  6029662272682    290000  \n",
       "3  6029662272682    220000  \n",
       "4  6029662272682     97000  "
      ]
     },
     "execution_count": 11,
     "metadata": {},
     "output_type": "execute_result"
    }
   ],
   "source": [
    "merged_new_movers_data = process_facebook_data(raw_new_movers_data)\n",
    "merged_new_movers_data.head()"
   ]
  },
  {
   "cell_type": "markdown",
   "metadata": {},
   "source": [
    "- use pandas `group_by` function to group data by a column"
   ]
  },
  {
   "cell_type": "code",
   "execution_count": 12,
   "metadata": {
    "collapsed": false
   },
   "outputs": [
    {
     "data": {
      "text/plain": [
       "genders\n",
       "female               627000\n",
       "male                 780000\n",
       "total population    1440000\n",
       "Name: audience, dtype: int64"
      ]
     },
     "execution_count": 12,
     "metadata": {},
     "output_type": "execute_result"
    }
   ],
   "source": [
    "merged_new_movers_data_genders = merged_new_movers_data.groupby(\"genders\")\n",
    "merged_new_movers_data_genders[\"audience\"].sum()"
   ]
  },
  {
   "cell_type": "markdown",
   "metadata": {},
   "source": [
    "## Plot total new movers in subset dataframe\n",
    "- create a new dataframe that is a the total population audience estimate of new movers for each state and the state name\n",
    "- create a dataframe that is just the state population estimate\n",
    "- create labels\n",
    "- plot the population estimates and labels"
   ]
  },
  {
   "cell_type": "code",
   "execution_count": 13,
   "metadata": {
    "collapsed": false
   },
   "outputs": [
    {
     "data": {
      "text/html": [
       "<div>\n",
       "<table border=\"1\" class=\"dataframe\">\n",
       "  <thead>\n",
       "    <tr style=\"text-align: right;\">\n",
       "      <th></th>\n",
       "      <th>state</th>\n",
       "      <th>audience</th>\n",
       "    </tr>\n",
       "  </thead>\n",
       "  <tbody>\n",
       "    <tr>\n",
       "      <th>0</th>\n",
       "      <td>California</td>\n",
       "      <td>540000</td>\n",
       "    </tr>\n",
       "    <tr>\n",
       "      <th>3</th>\n",
       "      <td>Illinois</td>\n",
       "      <td>220000</td>\n",
       "    </tr>\n",
       "    <tr>\n",
       "      <th>6</th>\n",
       "      <td>New York</td>\n",
       "      <td>240000</td>\n",
       "    </tr>\n",
       "    <tr>\n",
       "      <th>9</th>\n",
       "      <td>Texas</td>\n",
       "      <td>440000</td>\n",
       "    </tr>\n",
       "  </tbody>\n",
       "</table>\n",
       "</div>"
      ],
      "text/plain": [
       "        state  audience\n",
       "0  California    540000\n",
       "3    Illinois    220000\n",
       "6    New York    240000\n",
       "9       Texas    440000"
      ]
     },
     "execution_count": 13,
     "metadata": {},
     "output_type": "execute_result"
    }
   ],
   "source": [
    "new_movers_total_pop = merged_new_movers_data.loc[merged_new_movers_data[\"genders\"]==\"total population\"][[\"state\", \"audience\"]]\n",
    "new_movers_total_pop "
   ]
  },
  {
   "cell_type": "code",
   "execution_count": 14,
   "metadata": {
    "collapsed": false
   },
   "outputs": [
    {
     "data": {
      "text/plain": [
       "0    540000\n",
       "3    220000\n",
       "6    240000\n",
       "9    440000\n",
       "Name: audience, dtype: int64"
      ]
     },
     "execution_count": 14,
     "metadata": {},
     "output_type": "execute_result"
    }
   ],
   "source": [
    "new_movers_audience = new_movers_total_pop[\"audience\"]\n",
    "new_movers_audience"
   ]
  },
  {
   "cell_type": "code",
   "execution_count": 15,
   "metadata": {
    "collapsed": false
   },
   "outputs": [
    {
     "data": {
      "text/plain": [
       "['CA', 'IL', 'NY', 'TX']"
      ]
     },
     "execution_count": 15,
     "metadata": {},
     "output_type": "execute_result"
    }
   ],
   "source": [
    "labels = [i for i in state_subset[\"Abbreviation\"]]\n",
    "labels"
   ]
  },
  {
   "cell_type": "code",
   "execution_count": 16,
   "metadata": {
    "collapsed": false
   },
   "outputs": [
    {
     "data": {
      "text/plain": [
       "360000.0"
      ]
     },
     "execution_count": 16,
     "metadata": {},
     "output_type": "execute_result"
    }
   ],
   "source": [
    "new_movers_audience.mean()"
   ]
  },
  {
   "cell_type": "code",
   "execution_count": 17,
   "metadata": {
    "collapsed": false
   },
   "outputs": [
    {
     "data": {
      "image/png": "[encoded data removed]",
      "text/plain": [
       "<matplotlib.figure.Figure at 0x109c7d910>"
      ]
     },
     "metadata": {},
     "output_type": "display_data"
    }
   ],
   "source": [
    "plt.subplots(1, figsize=(12, 8))\n",
    "plt.subplots_adjust(bottom = 0.1)\n",
    "plt.scatter(np.arange(len(new_movers_audience)), new_movers_audience)\n",
    "for label, x, y in zip(labels,np.arange(len(new_movers_audience)), new_movers_audience):\n",
    "    plt.annotate(\n",
    "        label,\n",
    "        xy=(x, y), xytext=(-20, 20),\n",
    "        textcoords='offset points', ha='right', va='bottom',\n",
    "        bbox=dict(boxstyle='round,pad=0.5', fc='yellow', alpha=0.5),\n",
    "        arrowprops=dict(arrowstyle = '->', connectionstyle='arc3,rad=0'))\n",
    "\n",
    "plt.xticks([])\n",
    "\n",
    "plt.axhline(new_movers_audience.mean(), linestyle='--', color='red', alpha=0.3)\n",
    "plt.title(\"Total Population of New Movers by State\")\n",
    "plt.xlabel(\"State\")\n",
    "plt.ylabel(\"Total New Movers\")\n",
    "\n",
    "plt.show()"
   ]
  },
  {
   "cell_type": "code",
   "execution_count": 18,
   "metadata": {
    "collapsed": false
   },
   "outputs": [
    {
     "name": "stdout",
     "output_type": "stream",
     "text": [
      "System and module version information: \n",
      "\n",
      "('Python version:', sys.version_info(major=2, minor=7, micro=12, releaselevel='final', serial=0))\n",
      "('numpy version:', '1.12.0')\n",
      "('pandas version:', u'0.19.0')\n",
      "('matplotlib version:', '2.0.0')\n"
     ]
    }
   ],
   "source": [
    "import matplotlib\n",
    "print(\"System and module version information: \\n\")\n",
    "print('Python version:', sys.version_info)\n",
    "print('numpy version:', np.__version__)\n",
    "print('pandas version:', pd.__version__)\n",
    "print('matplotlib version:', matplotlib.__version__)"
   ]
  }
 ],
 "metadata": {
  "anaconda-cloud": {},
  "kernelspec": {
   "display_name": "Python [conda env:py27]",
   "language": "python",
   "name": "conda-env-py27-py"
  },
  "language_info": {
   "codemirror_mode": {
    "name": "ipython",
    "version": 2
   },
   "file_extension": ".py",
   "mimetype": "text/x-python",
   "name": "python",
   "nbconvert_exporter": "python",
   "pygments_lexer": "ipython2",
   "version": "2.7.12"
  }
 },
 "nbformat": 4,
 "nbformat_minor": 1
}
